{
 "cells": [
  {
   "cell_type": "code",
   "execution_count": 42,
   "metadata": {},
   "outputs": [],
   "source": [
    "from sklearn.ensemble import RandomForestClassifier\n",
    "from sklearn.preprocessing import LabelEncoder\n",
    "from sklearn.metrics import confusion_matrix, classification_report, accuracy_score\n",
    "from skimage import feature\n",
    "from imutils import build_montages\n",
    "from imutils import paths\n",
    "import numpy as np\n",
    "import cv2\n",
    "import pickle\n",
    "import os\n",
    "\n",
    "prediction_labels = ['Brown Spots', 'Healthy', 'White Scale']"
   ]
  },
  {
   "cell_type": "code",
   "execution_count": 8,
   "metadata": {},
   "outputs": [],
   "source": [
    "def quantify_image(image):\n",
    "    features = feature.hog(image, orientations=9,\n",
    "        pixels_per_cell=(10, 10), cells_per_block=(2, 2),\n",
    "        transform_sqrt=True, block_norm=\"L1\")\n",
    "\n",
    "    return features"
   ]
  },
  {
   "cell_type": "code",
   "execution_count": 26,
   "metadata": {},
   "outputs": [],
   "source": [
    "def load_split(path):\n",
    "    image_paths = list(paths.list_images(path))\n",
    "    data = []\n",
    "    labels = []\n",
    "\n",
    "    for image_path in image_paths:\n",
    "        # extract the class label from the filename\n",
    "        label = image_path.split(os.path.sep)[-2]\n",
    "\n",
    "        # load the input image, convert it to grayscale, and resize\n",
    "        # it to 200x200 pixels, ignoring aspect ratio\n",
    "        image = cv2.imread(image_path)\n",
    "        image = cv2.cvtColor(image, cv2.COLOR_BGR2GRAY)\n",
    "        image = cv2.resize(image, (200, 200))\n",
    "\n",
    "        # threshold the image such that the drawing appears as white\n",
    "        # on a black background\n",
    "        image = cv2.threshold(image, 0, 255,\n",
    "            cv2.THRESH_BINARY_INV | cv2.THRESH_OTSU)[1]\n",
    "\n",
    "        # quantify the image\n",
    "        features = quantify_image(image)\n",
    "\n",
    "        # update the data and labels lists, respectively\n",
    "        data.append(features)\n",
    "        labels.append(label)\n",
    "        \n",
    "\n",
    "    return (np.array(data), np.array(labels))"
   ]
  },
  {
   "cell_type": "code",
   "execution_count": 27,
   "metadata": {},
   "outputs": [],
   "source": [
    "dataset = ('./dataset/leaves/')\n",
    "training_path = dataset + 'training'\n",
    "testing_path = dataset + 'testing'"
   ]
  },
  {
   "cell_type": "code",
   "execution_count": 28,
   "metadata": {},
   "outputs": [],
   "source": [
    "(trainX, trainY) = load_split(training_path)\n",
    "(testX, testY) = load_split(testing_path)"
   ]
  },
  {
   "cell_type": "code",
   "execution_count": 12,
   "metadata": {},
   "outputs": [],
   "source": [
    "le = LabelEncoder()\n",
    "trainY = le.fit_transform(trainY)\n",
    "testY = le.transform(testY)"
   ]
  },
  {
   "cell_type": "code",
   "execution_count": 13,
   "metadata": {},
   "outputs": [],
   "source": [
    "models = []"
   ]
  },
  {
   "cell_type": "code",
   "execution_count": 14,
   "metadata": {},
   "outputs": [
    {
     "name": "stdout",
     "output_type": "stream",
     "text": [
      "[INFO] training model 1 of 5...\n",
      "0.4668125455871627\n",
      "              precision    recall  f1-score   support\n",
      "\n",
      " Brown Spots       0.21      0.26      0.23       270\n",
      "     Healthy       0.79      0.49      0.60      1003\n",
      "         WS3       0.20      0.85      0.32        98\n",
      "\n",
      "   micro avg       0.47      0.47      0.47      1371\n",
      "   macro avg       0.40      0.53      0.38      1371\n",
      "weighted avg       0.63      0.47      0.51      1371\n",
      "\n",
      "[INFO] training model 2 of 5...\n",
      "0.47556528081692195\n",
      "              precision    recall  f1-score   support\n",
      "\n",
      " Brown Spots       0.22      0.26      0.24       270\n",
      "     Healthy       0.78      0.49      0.61      1003\n",
      "         WS3       0.21      0.88      0.34        98\n",
      "\n",
      "   micro avg       0.48      0.48      0.48      1371\n",
      "   macro avg       0.40      0.54      0.39      1371\n",
      "weighted avg       0.63      0.48      0.51      1371\n",
      "\n",
      "[INFO] training model 3 of 5...\n",
      "0.47045951859956237\n",
      "              precision    recall  f1-score   support\n",
      "\n",
      " Brown Spots       0.22      0.26      0.24       270\n",
      "     Healthy       0.80      0.49      0.61      1003\n",
      "         WS3       0.19      0.86      0.31        98\n",
      "\n",
      "   micro avg       0.47      0.47      0.47      1371\n",
      "   macro avg       0.40      0.53      0.39      1371\n",
      "weighted avg       0.64      0.47      0.51      1371\n",
      "\n",
      "[INFO] training model 4 of 5...\n",
      "0.46900072939460247\n",
      "              precision    recall  f1-score   support\n",
      "\n",
      " Brown Spots       0.21      0.26      0.23       270\n",
      "     Healthy       0.80      0.49      0.61      1003\n",
      "         WS3       0.19      0.82      0.31        98\n",
      "\n",
      "   micro avg       0.47      0.47      0.47      1371\n",
      "   macro avg       0.40      0.52      0.38      1371\n",
      "weighted avg       0.64      0.47      0.51      1371\n",
      "\n",
      "[INFO] training model 5 of 5...\n",
      "0.4675419401896426\n",
      "              precision    recall  f1-score   support\n",
      "\n",
      " Brown Spots       0.22      0.27      0.24       270\n",
      "     Healthy       0.79      0.48      0.59      1003\n",
      "         WS3       0.21      0.94      0.34        98\n",
      "\n",
      "   micro avg       0.47      0.47      0.47      1371\n",
      "   macro avg       0.41      0.56      0.39      1371\n",
      "weighted avg       0.63      0.47      0.51      1371\n",
      "\n"
     ]
    }
   ],
   "source": [
    "for i in range(0, 5):\n",
    "    print(\"[INFO] training model {} of {}...\".format(i + 1, 5))\n",
    "    model = RandomForestClassifier(n_estimators=100)\n",
    "    model.fit(trainX, trainY)\n",
    "\n",
    "    # make predictions on the testing data and initialize a dictionary\n",
    "    # to store our computed metrics\n",
    "    predictions = model.predict(testX)\n",
    "    metrics = {}\n",
    "    \n",
    "    models.append(model)\n",
    "    \n",
    "    print(accuracy_score(testY, predictions))\n",
    "    print(classification_report(testY, predictions, target_names=['Brown Spots', 'Healthy', 'WS3']))"
   ]
  },
  {
   "cell_type": "code",
   "execution_count": 15,
   "metadata": {},
   "outputs": [],
   "source": [
    "file_name = 'model_v1.7'\n",
    "pickle.dump(models[1], open(file_name, 'wb'))\n",
    "best_model = models[1]"
   ]
  },
  {
   "cell_type": "code",
   "execution_count": 20,
   "metadata": {},
   "outputs": [],
   "source": [
    "def get_features(image_path):\n",
    "    image_data = []\n",
    "    image = cv2.imread(image_path)\n",
    "    image = cv2.cvtColor(image, cv2.COLOR_BGR2GRAY)\n",
    "    image = cv2.resize(image, (200, 200))\n",
    "\n",
    "    image = cv2.threshold(image, 0, 255, cv2.THRESH_BINARY_INV | cv2.THRESH_OTSU)[1]\n",
    "    features = quantify_image(image)\n",
    "    image_data.append(features)\n",
    "    \n",
    "    return np.array(image_data)"
   ]
  },
  {
   "cell_type": "markdown",
   "metadata": {},
   "source": [
    "![title](brownspots.jpg)"
   ]
  },
  {
   "cell_type": "code",
   "execution_count": 40,
   "metadata": {},
   "outputs": [
    {
     "name": "stdout",
     "output_type": "stream",
     "text": [
      "Brown Spots\n"
     ]
    }
   ],
   "source": [
    "first_pic_features = get_features('brownspots.jpg')\n",
    "prediction = best_model.predict(first_pic_features)[0]\n",
    "print(prediction_labels[prediction])"
   ]
  },
  {
   "cell_type": "markdown",
   "metadata": {},
   "source": [
    "![title](whitescale.jpg)"
   ]
  },
  {
   "cell_type": "code",
   "execution_count": 41,
   "metadata": {},
   "outputs": [
    {
     "name": "stdout",
     "output_type": "stream",
     "text": [
      "White Scale\n"
     ]
    }
   ],
   "source": [
    "first_pic_features = get_features('whitescale.jpg')\n",
    "prediction = best_model.predict(first_pic_features)[0]\n",
    "print(prediction_labels[prediction])"
   ]
  }
 ],
 "metadata": {
  "kernelspec": {
   "display_name": "Python 3",
   "language": "python",
   "name": "python3"
  },
  "language_info": {
   "codemirror_mode": {
    "name": "ipython",
    "version": 3
   },
   "file_extension": ".py",
   "mimetype": "text/x-python",
   "name": "python",
   "nbconvert_exporter": "python",
   "pygments_lexer": "ipython3",
   "version": "3.7.1"
  }
 },
 "nbformat": 4,
 "nbformat_minor": 2
}
